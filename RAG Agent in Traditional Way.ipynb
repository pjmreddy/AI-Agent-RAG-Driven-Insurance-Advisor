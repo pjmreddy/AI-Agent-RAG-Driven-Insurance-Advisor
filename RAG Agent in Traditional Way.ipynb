{
 "cells": [
  {
   "cell_type": "markdown",
   "id": "92d60661-bc4a-44f9-8a12-183db5025214",
   "metadata": {},
   "source": [
    "# Importing requirements"
   ]
  },
  {
   "cell_type": "code",
   "execution_count": 42,
   "id": "b799bae7-6b04-4208-8fb2-a71853b71410",
   "metadata": {},
   "outputs": [],
   "source": [
    "import os\n",
    "import glob\n",
    "from openai import OpenAI\n",
    "from dotenv import load_dotenv"
   ]
  },
  {
   "cell_type": "code",
   "execution_count": 43,
   "id": "dae5af2c-7105-45b3-916d-5d94acf929a0",
   "metadata": {},
   "outputs": [],
   "source": [
    "Model = \"gpt-4o-mini\""
   ]
  },
  {
   "cell_type": "code",
   "execution_count": 44,
   "id": "746c47be-4f60-4ac5-bce3-6b9c3fd915dd",
   "metadata": {},
   "outputs": [],
   "source": [
    "load_dotenv()\n",
    "api_key = os.getenv(\"OPENAI_API_KEY\")\n",
    "openai = OpenAI()"
   ]
  },
  {
   "cell_type": "markdown",
   "id": "6deba48b-5a29-4bbf-adab-d1474c3d18fd",
   "metadata": {},
   "source": [
    "# Connecting to Knowledge Base"
   ]
  },
  {
   "cell_type": "code",
   "execution_count": 45,
   "id": "91741e38-6ed3-45a4-bcb7-39b3968ee3e9",
   "metadata": {},
   "outputs": [],
   "source": [
    "#Def employees files list\n",
    "context = {}\n",
    "\n",
    "emps = glob.glob(\"knowledge-base/employees/*\")\n",
    "for emp in emps:\n",
    "    name = emp.split(' ')[-1][:-3]\n",
    "    doc = \"\"\n",
    "    with open(emp, \"r\") as f:\n",
    "        doc = f.read()\n",
    "    context[name.lower()] = doc"
   ]
  },
  {
   "cell_type": "code",
   "execution_count": 46,
   "id": "b1743129-a892-4917-b3ed-034d7ea827a5",
   "metadata": {},
   "outputs": [
    {
     "name": "stdout",
     "output_type": "stream",
     "text": [
      "# HR Record\n",
      "\n",
      "# Alex Chen\n",
      "\n",
      "## Summary\n",
      "- **Date of Birth:** March 15, 1990  \n",
      "- **Job Title:** Backend Software Engineer  \n",
      "- **Location:** San Francisco, California  \n",
      "\n",
      "## Insurellm Career Progression\n",
      "- **April 2020:** Joined Insurellm as a Junior Backend Developer. Focused on building APIs to enhance customer data security.\n",
      "- **October 2021:** Promoted to Backend Software Engineer. Took on leadership for a key project developing a microservices architecture to support the company's growing platform.\n",
      "- **March 2023:** Awarded the title of Senior Backend Software Engineer due to exemplary performance in scaling backend services, reducing downtime by 30% over six months.\n",
      "\n",
      "## Annual Performance History\n",
      "- **2020:**  \n",
      "  - Completed onboarding successfully.  \n",
      "  - Met expectations in delivering project milestones.  \n",
      "  - Received positive feedback from the team leads.\n",
      "\n",
      "- **2021:**  \n",
      "  - Achieved a 95% success rate in project delivery timelines.  \n",
      "  - Awarded \"Rising Star\" at the annual company gala for outstanding contributions.  \n",
      "\n",
      "- **2022:**  \n",
      "  - Exceeded goals by optimizing existing backend code, improving system performance by 25%.  \n",
      "  - Conducted training sessions for junior developers, fostering knowledge sharing.  \n",
      "\n",
      "- **2023:**  \n",
      "  - Led a major overhaul of the API internal architecture, enhancing security protocols.  \n",
      "  - Contributed to the company’s transition to a cloud-based infrastructure.  \n",
      "  - Received an overall performance rating of 4.8/5.\n",
      "\n",
      "## Compensation History\n",
      "- **2020:** Base Salary: $80,000  \n",
      "- **2021:** Base Salary Increase to $90,000; Received a performance bonus of $5,000.  \n",
      "- **2022:** Base Salary Increase to $100,000; Performance bonus of $7,500 due to exceptional project outcomes.  \n",
      "- **2023:** Base Salary Increase to $115,000; Performance bonus of $10,000 for leading pivotal projects.\n",
      "\n",
      "## Other HR Notes\n",
      "- Participates regularly in Insurellm's Diversity & Inclusion initiatives, championing tech accessibility for underrepresented communities.\n",
      "- Completed several certifications in cloud architecture and DevOps, contributing to professional growth.\n",
      "- Plans for a professional development course in AI and machine learning to further enhance backend capabilities in Insurellm's offerings.\n",
      "- Acknowledged for volunteer efforts in local tech meetups, bringing seasoned engineers to mentor aspiring coders.  \n",
      "\n",
      "Alex Chen continues to be a vital asset at Insurellm, contributing significantly to innovative backend solutions that help shape the future of insurance technology.\n"
     ]
    }
   ],
   "source": [
    "#Chekcing the file retrieval\n",
    "\n",
    "print(context[\"chen\"])"
   ]
  },
  {
   "cell_type": "code",
   "execution_count": 47,
   "id": "1218a793-093c-4846-8e79-117e7312bb50",
   "metadata": {},
   "outputs": [],
   "source": [
    "# Defining product files list\n",
    "\n",
    "products = glob.glob(\"knowledge-base/products/*\")\n",
    "\n",
    "for prod in products:\n",
    "    name = prod.split('/')[-1][:-3]\n",
    "    doc = \"\"\n",
    "    with open(prod, \"r\") as f:\n",
    "        doc = f.read()\n",
    "    context[name.lower()] = doc"
   ]
  },
  {
   "cell_type": "code",
   "execution_count": 48,
   "id": "25c7a647-938c-4c5d-a060-68b2a76e77d1",
   "metadata": {},
   "outputs": [
    {
     "name": "stdout",
     "output_type": "stream",
     "text": [
      "# Product Summary\n",
      "\n",
      "# Rellm: AI-Powered Enterprise Reinsurance Solution\n",
      "\n",
      "## Summary\n",
      "\n",
      "Rellm is an innovative enterprise reinsurance product developed by Insurellm, designed to transform the way reinsurance companies operate. Harnessing the power of artificial intelligence, Rellm offers an advanced platform that redefines risk management, enhances decision-making processes, and optimizes operational efficiencies within the reinsurance industry. With seamless integrations and robust analytics, Rellm enables insurers to proactively manage their portfolios and respond to market dynamics with agility.\n",
      "\n",
      "## Features\n",
      "\n",
      "### AI-Driven Analytics\n",
      "Rellm utilizes cutting-edge AI algorithms to provide predictive insights into risk exposures, enabling users to forecast trends and make informed decisions. Its real-time data analysis empowers reinsurance professionals with actionable intelligence.\n",
      "\n",
      "### Seamless Integrations\n",
      "Rellm's architecture is designed for effortless integration with existing systems. Whether it's policy management, claims processing, or financial reporting, Rellm connects seamlessly with diverse data sources to create a unified ecosystem.\n",
      "\n",
      "### Risk Assessment Module\n",
      "The comprehensive risk assessment module within Rellm allows insurers to evaluate risk profiles accurately. By leveraging historical data and advanced modeling techniques, Rellm provides a clear picture of potential liabilities and expected outcomes.\n",
      "\n",
      "### Customizable Dashboard\n",
      "Rellm features a customizable dashboard that presents key metrics and performance indicators in an intuitive interface. Users can tailor their view to focus on what matters most to their business, enhancing user experience and productivity.\n",
      "\n",
      "### Regulatory Compliance Tools\n",
      "Rellm includes built-in compliance tracking features to help organizations meet local and international regulatory standards. This ensures that reinsurance practices remain transparent and accountable.\n",
      "\n",
      "### Client and Broker Portals\n",
      "Rellm offers dedicated portals for both clients and brokers, facilitating real-time communication and documentation sharing. This strengthens partnerships and drives operational excellence across the board.\n",
      "\n",
      "## Pricing\n",
      "\n",
      "Insurellm offers flexible pricing plans for Rellm to cater to various business needs:\n",
      "\n",
      "- **Basic Plan**: $5,000/month\n",
      "  - Includes access to core features and standard integrations.\n",
      "  \n",
      "- **Professional Plan**: $10,000/month\n",
      "  - Includes all features, advanced integrations, and priority customer support.\n",
      "  \n",
      "- **Enterprise Plan**: Custom pricing\n",
      "  - Tailored solutions with personalized features, extensive integrations, and dedicated account management.\n",
      "\n",
      "Join the growing number of organizations leveraging Rellm to enhance their reinsurance processes while driving profitability and compliance. \n",
      "\n",
      "## 2025-2026 Roadmap\n",
      "\n",
      "At Insurellm, we are committed to the continuous improvement of Rellm. Our roadmap for 2025-2026 includes:\n",
      "\n",
      "- **Q3 2025**: \n",
      "  - Launch of the Rellm Mobile App for on-the-go insights and management.\n",
      "  - Introduction of augmented reality (AR) features for interactive risk assessments.\n",
      "\n",
      "- **Q1 2026**: \n",
      "  - Deployment of advanced machine learning models for even more accurate risk predictions.\n",
      "  - Expansion of integration capabilities to support emerging technologies in the insurance sector.\n",
      "\n",
      "- **Q3 2026**: \n",
      "  - Release of a community platform for Rellm users to exchange insights, tips, and best practices.\n",
      "  - Launch of Rellm 2.0, featuring enhanced user interface and premium features based on user feedback.\n",
      "\n",
      "Experience the future of reinsurance with Rellm, where innovation meets reliability. Let Insurellm help you navigate the complexities of the reinsurance market smarter and faster.\n"
     ]
    }
   ],
   "source": [
    "print(context[\"rellm\"])"
   ]
  },
  {
   "cell_type": "code",
   "execution_count": 49,
   "id": "a8c9a423-1729-4ffe-9a74-82a907996ca9",
   "metadata": {},
   "outputs": [],
   "source": [
    "# defining system message\n",
    "\n",
    "system_message = \"You are an expert in answering accurate questions about Insurellm, the Insurance Tech company. Give brief, accurate answers. If you don't know the answer, say so. Do not make anything up if you haven't been provided with relevant context.\""
   ]
  },
  {
   "cell_type": "code",
   "execution_count": 50,
   "id": "bbaffa68-9eb3-4c0d-8f53-9a3a908077c6",
   "metadata": {},
   "outputs": [],
   "source": [
    "#defining a function to get context of the relevant words found in the message\n",
    "\n",
    "def get_context(message):\n",
    "    message = message.lower()\n",
    "    print(message)\n",
    "    relevant_context=[]\n",
    "    for name, description in context.items():\n",
    "        if name in message:\n",
    "            relevant_context.append(description)\n",
    "    return relevant_context"
   ]
  },
  {
   "cell_type": "code",
   "execution_count": 51,
   "id": "7f0615fa-d6a1-4d29-888b-312de8450813",
   "metadata": {},
   "outputs": [
    {
     "name": "stdout",
     "output_type": "stream",
     "text": [
      "hi how are you, chen, i want to know about the carllm\n",
      "['# HR Record\\n\\n# Alex Chen\\n\\n## Summary\\n- **Date of Birth:** March 15, 1990  \\n- **Job Title:** Backend Software Engineer  \\n- **Location:** San Francisco, California  \\n\\n## Insurellm Career Progression\\n- **April 2020:** Joined Insurellm as a Junior Backend Developer. Focused on building APIs to enhance customer data security.\\n- **October 2021:** Promoted to Backend Software Engineer. Took on leadership for a key project developing a microservices architecture to support the company\\'s growing platform.\\n- **March 2023:** Awarded the title of Senior Backend Software Engineer due to exemplary performance in scaling backend services, reducing downtime by 30% over six months.\\n\\n## Annual Performance History\\n- **2020:**  \\n  - Completed onboarding successfully.  \\n  - Met expectations in delivering project milestones.  \\n  - Received positive feedback from the team leads.\\n\\n- **2021:**  \\n  - Achieved a 95% success rate in project delivery timelines.  \\n  - Awarded \"Rising Star\" at the annual company gala for outstanding contributions.  \\n\\n- **2022:**  \\n  - Exceeded goals by optimizing existing backend code, improving system performance by 25%.  \\n  - Conducted training sessions for junior developers, fostering knowledge sharing.  \\n\\n- **2023:**  \\n  - Led a major overhaul of the API internal architecture, enhancing security protocols.  \\n  - Contributed to the company’s transition to a cloud-based infrastructure.  \\n  - Received an overall performance rating of 4.8/5.\\n\\n## Compensation History\\n- **2020:** Base Salary: $80,000  \\n- **2021:** Base Salary Increase to $90,000; Received a performance bonus of $5,000.  \\n- **2022:** Base Salary Increase to $100,000; Performance bonus of $7,500 due to exceptional project outcomes.  \\n- **2023:** Base Salary Increase to $115,000; Performance bonus of $10,000 for leading pivotal projects.\\n\\n## Other HR Notes\\n- Participates regularly in Insurellm\\'s Diversity & Inclusion initiatives, championing tech accessibility for underrepresented communities.\\n- Completed several certifications in cloud architecture and DevOps, contributing to professional growth.\\n- Plans for a professional development course in AI and machine learning to further enhance backend capabilities in Insurellm\\'s offerings.\\n- Acknowledged for volunteer efforts in local tech meetups, bringing seasoned engineers to mentor aspiring coders.  \\n\\nAlex Chen continues to be a vital asset at Insurellm, contributing significantly to innovative backend solutions that help shape the future of insurance technology.', '# Product Summary\\n\\n# Carllm\\n\\n## Summary\\n\\nCarllm is an innovative auto insurance product developed by Insurellm, designed to streamline the way insurance companies offer coverage to their customers. Powered by cutting-edge artificial intelligence, Carllm utilizes advanced algorithms to deliver personalized auto insurance solutions, ensuring optimal coverage while minimizing costs. With a robust infrastructure that supports both B2B and B2C customers, Carllm redefines the auto insurance landscape and empowers insurance providers to enhance customer satisfaction and retention.\\n\\n## Features\\n\\n- **AI-Powered Risk Assessment**: Carllm leverages artificial intelligence to analyze driver behavior, vehicle conditions, and historical claims data. This enables insurers to make informed decisions and set competitive premiums that reflect true risk profiles.\\n\\n- **Instant Quoting**: With Carllm, insurance companies can offer near-instant quotes to customers, enhancing the customer experience. The AI engine processes data in real-time, drastically reducing the time it takes to generate quotes.\\n\\n- **Customizable Coverage Plans**: Carllm allows insurers to create flexible and tailored insurance packages based on individual customer needs. This customization improves customer engagement and retention.\\n\\n- **Fraud Detection**: The product incorporates advanced analytics to identify potentially fraudulent claims, significantly reducing the risk of losses for insurance providers.\\n\\n- **Customer Insights Dashboard**: Carllm provides insurers with a powerful dashboard that offers deep insights into customer behavior, claims patterns, and market trends, enabling informed decision-making and strategic planning.\\n\\n- **Mobile Integration**: Carllm is designed to work seamlessly with mobile applications, providing both insurers and end-users access to policy management and claims reporting on the go.\\n\\n- **Automated Customer Support**: Leveraging AI chatbots, Carllm offers 24/7 customer support, helping to resolve inquiries quickly and efficiently, thus improving customer satisfaction.\\n\\n## Pricing\\n\\nCarllm is offered under a subscription-based pricing model tailored to meet the needs of insurance companies of all sizes. Our pricing tiers are designed to provide maximum flexibility and value:\\n\\n- **Basic Tier**: $1,000/month\\n  - Ideal for small insurance firms.\\n  - Access to core features and standard reporting.\\n\\n- **Professional Tier**: $2,500/month\\n  - For medium-sized companies.\\n  - All Basic Tier features plus advanced analytics and fraud detection.\\n\\n- **Enterprise Tier**: $5,000/month\\n  - Customized solutions for large insurance firms.\\n  - Comprehensive support, full feature access, and integration with existing systems.\\n\\nContact our sales team for a personalized quote and discover how Carllm can transform your auto insurance offerings!\\n\\n## 2025-2026 Roadmap\\n\\nIn our commitment to continuous improvement and innovation, Insurellm has outlined the following roadmap for Carllm:\\n\\n### Q1 2025: Launch Feature Enhancements\\n- **Expanded data integrations** for better risk assessment.\\n- **Enhanced fraud detection algorithms** to reduce losses.\\n\\n### Q2 2025: Customer Experience Improvements\\n- Launch of a new **mobile app** for end-users.\\n- Introduction of **telematics-based pricing** to provide even more tailored coverage options.\\n\\n### Q3 2025: Global Expansion\\n- Begin pilot programs for international insurance markets.\\n- Collaborate with local insurers to offer compliant, localized versions of Carllm.\\n\\n### Q4 2025: AI and Machine Learning Upgrades\\n- Implement next-gen machine learning models for predictive analysis.\\n- Roll out customer insights dashboard updates based on user feedback.\\n\\n### 2026: Scaling and Partnerships\\n- Increase partnerships with automakers for integrated insurance solutions.\\n- Enhance the **AI customer support system** to include multi-language support.\\n\\nCarllm is not just an auto insurance product; it is a transformative tool for the insurance industry. Join us on this exciting journey as we redefine the future of auto insurance with technology and customer-centric solutions.']\n"
     ]
    }
   ],
   "source": [
    "print(get_context(\"hi how are you, CHEN, I want to know about the Carllm\"))"
   ]
  },
  {
   "cell_type": "code",
   "execution_count": 52,
   "id": "bd8cb267-7a9f-4bc6-b504-9fbd545437c3",
   "metadata": {},
   "outputs": [],
   "source": [
    "# Defining a function to add context to the message\n",
    "\n",
    "def add_context(message):\n",
    "    rlvt_context = get_context(message)\n",
    "    if rlvt_context:\n",
    "        message += \"\\n\\n The following additional context might be relevant in answering this question:\\n\\n\"\n",
    "        for i in rlvt_context:\n",
    "            message += i + \"\\n\\n\"\n",
    "    return message"
   ]
  },
  {
   "cell_type": "code",
   "execution_count": 53,
   "id": "adc76034-7e5f-4f78-8882-67abc6f4d0c3",
   "metadata": {},
   "outputs": [
    {
     "name": "stdout",
     "output_type": "stream",
     "text": [
      "hi chen . i want to know the carllm insurance\n",
      "Hi Chen . I want to know the CArLlM insurance\n",
      "\n",
      " The following additional context might be relevant in answering this question:\n",
      "\n",
      "# HR Record\n",
      "\n",
      "# Alex Chen\n",
      "\n",
      "## Summary\n",
      "- **Date of Birth:** March 15, 1990  \n",
      "- **Job Title:** Backend Software Engineer  \n",
      "- **Location:** San Francisco, California  \n",
      "\n",
      "## Insurellm Career Progression\n",
      "- **April 2020:** Joined Insurellm as a Junior Backend Developer. Focused on building APIs to enhance customer data security.\n",
      "- **October 2021:** Promoted to Backend Software Engineer. Took on leadership for a key project developing a microservices architecture to support the company's growing platform.\n",
      "- **March 2023:** Awarded the title of Senior Backend Software Engineer due to exemplary performance in scaling backend services, reducing downtime by 30% over six months.\n",
      "\n",
      "## Annual Performance History\n",
      "- **2020:**  \n",
      "  - Completed onboarding successfully.  \n",
      "  - Met expectations in delivering project milestones.  \n",
      "  - Received positive feedback from the team leads.\n",
      "\n",
      "- **2021:**  \n",
      "  - Achieved a 95% success rate in project delivery timelines.  \n",
      "  - Awarded \"Rising Star\" at the annual company gala for outstanding contributions.  \n",
      "\n",
      "- **2022:**  \n",
      "  - Exceeded goals by optimizing existing backend code, improving system performance by 25%.  \n",
      "  - Conducted training sessions for junior developers, fostering knowledge sharing.  \n",
      "\n",
      "- **2023:**  \n",
      "  - Led a major overhaul of the API internal architecture, enhancing security protocols.  \n",
      "  - Contributed to the company’s transition to a cloud-based infrastructure.  \n",
      "  - Received an overall performance rating of 4.8/5.\n",
      "\n",
      "## Compensation History\n",
      "- **2020:** Base Salary: $80,000  \n",
      "- **2021:** Base Salary Increase to $90,000; Received a performance bonus of $5,000.  \n",
      "- **2022:** Base Salary Increase to $100,000; Performance bonus of $7,500 due to exceptional project outcomes.  \n",
      "- **2023:** Base Salary Increase to $115,000; Performance bonus of $10,000 for leading pivotal projects.\n",
      "\n",
      "## Other HR Notes\n",
      "- Participates regularly in Insurellm's Diversity & Inclusion initiatives, championing tech accessibility for underrepresented communities.\n",
      "- Completed several certifications in cloud architecture and DevOps, contributing to professional growth.\n",
      "- Plans for a professional development course in AI and machine learning to further enhance backend capabilities in Insurellm's offerings.\n",
      "- Acknowledged for volunteer efforts in local tech meetups, bringing seasoned engineers to mentor aspiring coders.  \n",
      "\n",
      "Alex Chen continues to be a vital asset at Insurellm, contributing significantly to innovative backend solutions that help shape the future of insurance technology.\n",
      "\n",
      "# Product Summary\n",
      "\n",
      "# Carllm\n",
      "\n",
      "## Summary\n",
      "\n",
      "Carllm is an innovative auto insurance product developed by Insurellm, designed to streamline the way insurance companies offer coverage to their customers. Powered by cutting-edge artificial intelligence, Carllm utilizes advanced algorithms to deliver personalized auto insurance solutions, ensuring optimal coverage while minimizing costs. With a robust infrastructure that supports both B2B and B2C customers, Carllm redefines the auto insurance landscape and empowers insurance providers to enhance customer satisfaction and retention.\n",
      "\n",
      "## Features\n",
      "\n",
      "- **AI-Powered Risk Assessment**: Carllm leverages artificial intelligence to analyze driver behavior, vehicle conditions, and historical claims data. This enables insurers to make informed decisions and set competitive premiums that reflect true risk profiles.\n",
      "\n",
      "- **Instant Quoting**: With Carllm, insurance companies can offer near-instant quotes to customers, enhancing the customer experience. The AI engine processes data in real-time, drastically reducing the time it takes to generate quotes.\n",
      "\n",
      "- **Customizable Coverage Plans**: Carllm allows insurers to create flexible and tailored insurance packages based on individual customer needs. This customization improves customer engagement and retention.\n",
      "\n",
      "- **Fraud Detection**: The product incorporates advanced analytics to identify potentially fraudulent claims, significantly reducing the risk of losses for insurance providers.\n",
      "\n",
      "- **Customer Insights Dashboard**: Carllm provides insurers with a powerful dashboard that offers deep insights into customer behavior, claims patterns, and market trends, enabling informed decision-making and strategic planning.\n",
      "\n",
      "- **Mobile Integration**: Carllm is designed to work seamlessly with mobile applications, providing both insurers and end-users access to policy management and claims reporting on the go.\n",
      "\n",
      "- **Automated Customer Support**: Leveraging AI chatbots, Carllm offers 24/7 customer support, helping to resolve inquiries quickly and efficiently, thus improving customer satisfaction.\n",
      "\n",
      "## Pricing\n",
      "\n",
      "Carllm is offered under a subscription-based pricing model tailored to meet the needs of insurance companies of all sizes. Our pricing tiers are designed to provide maximum flexibility and value:\n",
      "\n",
      "- **Basic Tier**: $1,000/month\n",
      "  - Ideal for small insurance firms.\n",
      "  - Access to core features and standard reporting.\n",
      "\n",
      "- **Professional Tier**: $2,500/month\n",
      "  - For medium-sized companies.\n",
      "  - All Basic Tier features plus advanced analytics and fraud detection.\n",
      "\n",
      "- **Enterprise Tier**: $5,000/month\n",
      "  - Customized solutions for large insurance firms.\n",
      "  - Comprehensive support, full feature access, and integration with existing systems.\n",
      "\n",
      "Contact our sales team for a personalized quote and discover how Carllm can transform your auto insurance offerings!\n",
      "\n",
      "## 2025-2026 Roadmap\n",
      "\n",
      "In our commitment to continuous improvement and innovation, Insurellm has outlined the following roadmap for Carllm:\n",
      "\n",
      "### Q1 2025: Launch Feature Enhancements\n",
      "- **Expanded data integrations** for better risk assessment.\n",
      "- **Enhanced fraud detection algorithms** to reduce losses.\n",
      "\n",
      "### Q2 2025: Customer Experience Improvements\n",
      "- Launch of a new **mobile app** for end-users.\n",
      "- Introduction of **telematics-based pricing** to provide even more tailored coverage options.\n",
      "\n",
      "### Q3 2025: Global Expansion\n",
      "- Begin pilot programs for international insurance markets.\n",
      "- Collaborate with local insurers to offer compliant, localized versions of Carllm.\n",
      "\n",
      "### Q4 2025: AI and Machine Learning Upgrades\n",
      "- Implement next-gen machine learning models for predictive analysis.\n",
      "- Roll out customer insights dashboard updates based on user feedback.\n",
      "\n",
      "### 2026: Scaling and Partnerships\n",
      "- Increase partnerships with automakers for integrated insurance solutions.\n",
      "- Enhance the **AI customer support system** to include multi-language support.\n",
      "\n",
      "Carllm is not just an auto insurance product; it is a transformative tool for the insurance industry. Join us on this exciting journey as we redefine the future of auto insurance with technology and customer-centric solutions.\n",
      "\n",
      "\n"
     ]
    }
   ],
   "source": [
    "print(add_context(\"Hi Chen . I want to know the CArLlM insurance\"))"
   ]
  },
  {
   "cell_type": "markdown",
   "id": "8988e3e1-6772-46d8-a221-c6a0f7449e19",
   "metadata": {},
   "source": [
    "# Defining a chat function to call gpt "
   ]
  },
  {
   "cell_type": "code",
   "execution_count": 54,
   "id": "a232d87c-ca4c-421a-b1a1-2a9db5670f78",
   "metadata": {},
   "outputs": [],
   "source": [
    "def chat(message, history):\n",
    "    msg = [{\"role\": \"system\", \"content\":system_message}]\n",
    "    for user, assistant in history:\n",
    "        msg.append({\"role\":\"user\", \"content\": user})\n",
    "        msg.append({\"role\":\"assistant\", \"content\": assistant})\n",
    "\n",
    "    message = add_context(message)\n",
    "    msg.append({\"role\":\"user\", \"content\":message})\n",
    "\n",
    "    response = openai.chat.completions.create(model =Model, messages = msg, stream = True)\n",
    "\n",
    "    resp = \"\"\n",
    "    for chunk in response:\n",
    "        resp += chunk.choices[0].delta.content or ''\n",
    "        yield resp"
   ]
  },
  {
   "cell_type": "markdown",
   "id": "3a90c64c-bda3-4441-8c3e-b05daf30c878",
   "metadata": {},
   "source": [
    "# Creating chat UI using gradio"
   ]
  },
  {
   "cell_type": "code",
   "execution_count": 55,
   "id": "bff525c1-7ef2-45ab-b3b1-74de90f11660",
   "metadata": {},
   "outputs": [],
   "source": [
    "import gradio as gr"
   ]
  },
  {
   "cell_type": "code",
   "execution_count": 56,
   "id": "5df62c23-d6e1-4670-b510-2a7b85af25f1",
   "metadata": {},
   "outputs": [
    {
     "name": "stderr",
     "output_type": "stream",
     "text": [
      "/opt/anaconda3/envs/llms/lib/python3.11/site-packages/gradio/components/chatbot.py:291: UserWarning: The 'tuples' format for chatbot messages is deprecated and will be removed in a future version of Gradio. Please set type='messages' instead, which uses openai-style 'role' and 'content' keys.\n",
      "  warnings.warn(\n"
     ]
    },
    {
     "name": "stdout",
     "output_type": "stream",
     "text": [
      "* Running on local URL:  http://127.0.0.1:7868\n",
      "\n",
      "To create a public link, set `share=True` in `launch()`.\n"
     ]
    },
    {
     "data": {
      "text/html": [
       "<div><iframe src=\"http://127.0.0.1:7868/\" width=\"100%\" height=\"500\" allow=\"autoplay; camera; microphone; clipboard-read; clipboard-write;\" frameborder=\"0\" allowfullscreen></iframe></div>"
      ],
      "text/plain": [
       "<IPython.core.display.HTML object>"
      ]
     },
     "metadata": {},
     "output_type": "display_data"
    },
    {
     "data": {
      "text/plain": []
     },
     "execution_count": 56,
     "metadata": {},
     "output_type": "execute_result"
    },
    {
     "name": "stdout",
     "output_type": "stream",
     "text": [
      "hi\n",
      "who is chen\n",
      "what is rellm\n",
      "thanks\n"
     ]
    }
   ],
   "source": [
    "gr.ChatInterface(chat).launch()"
   ]
  },
  {
   "cell_type": "code",
   "execution_count": null,
   "id": "fbc4e06b-fe6c-425b-a741-480e53f956d9",
   "metadata": {},
   "outputs": [],
   "source": []
  }
 ],
 "metadata": {
  "kernelspec": {
   "display_name": "Python 3 (ipykernel)",
   "language": "python",
   "name": "python3"
  },
  "language_info": {
   "codemirror_mode": {
    "name": "ipython",
    "version": 3
   },
   "file_extension": ".py",
   "mimetype": "text/x-python",
   "name": "python",
   "nbconvert_exporter": "python",
   "pygments_lexer": "ipython3",
   "version": "3.11.11"
  }
 },
 "nbformat": 4,
 "nbformat_minor": 5
}
